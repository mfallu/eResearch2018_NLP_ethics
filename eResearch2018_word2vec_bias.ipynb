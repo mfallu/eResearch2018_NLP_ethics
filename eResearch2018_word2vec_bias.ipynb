{
 "cells": [
  {
   "cell_type": "markdown",
   "metadata": {},
   "source": [
    "## Setup"
   ]
  },
  {
   "cell_type": "code",
   "execution_count": 1,
   "metadata": {},
   "outputs": [],
   "source": [
    "from gensim.models import KeyedVectors\n",
    "import numpy as np"
   ]
  },
  {
   "cell_type": "code",
   "execution_count": 2,
   "metadata": {},
   "outputs": [],
   "source": [
    "model_w2v = KeyedVectors.load_word2vec_format('GoogleNews-vectors-negative300.bin', binary=True)"
   ]
  },
  {
   "cell_type": "code",
   "execution_count": 105,
   "metadata": {},
   "outputs": [
    {
     "data": {
      "text/html": [
       "<script>\n",
       "code_show_err=false; \n",
       "function code_toggle_err() {\n",
       " if (code_show_err){\n",
       " $('div.output_stderr').hide();\n",
       " } else {\n",
       " $('div.output_stderr').show();\n",
       " }\n",
       " code_show_err = !code_show_err\n",
       "} \n",
       "$( document ).ready(code_toggle_err);\n",
       "</script>\n",
       "To toggle on/off output_stderr, click <a href=\"javascript:code_toggle_err()\">here</a>."
      ],
      "text/plain": [
       "<IPython.core.display.HTML object>"
      ]
     },
     "execution_count": 105,
     "metadata": {},
     "output_type": "execute_result"
    }
   ],
   "source": [
    "from IPython.display import HTML\n",
    "HTML('''<script>\n",
    "code_show_err=false; \n",
    "function code_toggle_err() {\n",
    " if (code_show_err){\n",
    " $('div.output_stderr').hide();\n",
    " } else {\n",
    " $('div.output_stderr').show();\n",
    " }\n",
    " code_show_err = !code_show_err\n",
    "} \n",
    "$( document ).ready(code_toggle_err);\n",
    "</script>\n",
    "To toggle on/off output_stderr, click <a href=\"javascript:code_toggle_err()\">here</a>.''')"
   ]
  },
  {
   "cell_type": "markdown",
   "metadata": {},
   "source": [
    "## Demonstrating similarity"
   ]
  },
  {
   "cell_type": "code",
   "execution_count": 7,
   "metadata": {},
   "outputs": [
    {
     "name": "stderr",
     "output_type": "stream",
     "text": [
      "/Users/mfallu/Documents/projects/envs/prodigy/lib/python3.6/site-packages/gensim/matutils.py:737: FutureWarning: Conversion of the second argument of issubdtype from `int` to `np.signedinteger` is deprecated. In future, it will be treated as `np.int64 == np.dtype(int).type`.\n",
      "  if np.issubdtype(vec.dtype, np.int):\n"
     ]
    },
    {
     "data": {
      "text/plain": [
       "[('associate_professor', 0.8847021460533142),\n",
       " ('professor_emeritus', 0.8773139119148254),\n",
       " ('assistant_professor', 0.8518873453140259),\n",
       " ('emeritus_professor', 0.817015528678894),\n",
       " ('lecturer', 0.801132321357727),\n",
       " ('Professor', 0.7567095756530762),\n",
       " ('economics_professor', 0.7433779835700989),\n",
       " ('adjunct_professor', 0.7406430244445801),\n",
       " ('Associate_Professor', 0.7392270565032959),\n",
       " ('psychology_professor', 0.7311919927597046)]"
      ]
     },
     "execution_count": 7,
     "metadata": {},
     "output_type": "execute_result"
    }
   ],
   "source": [
    "model_w2v.most_similar('professor')\n"
   ]
  },
  {
   "cell_type": "markdown",
   "metadata": {},
   "source": [
    "## Vector Algebra Demonstration:  King - man + woman = Queen"
   ]
  },
  {
   "cell_type": "code",
   "execution_count": 10,
   "metadata": {},
   "outputs": [
    {
     "name": "stderr",
     "output_type": "stream",
     "text": [
      "/Users/mfallu/Documents/projects/envs/prodigy/lib/python3.6/site-packages/gensim/matutils.py:737: FutureWarning: Conversion of the second argument of issubdtype from `int` to `np.signedinteger` is deprecated. In future, it will be treated as `np.int64 == np.dtype(int).type`.\n",
      "  if np.issubdtype(vec.dtype, np.int):\n"
     ]
    },
    {
     "data": {
      "text/plain": [
       "[('queen', 0.7118192911148071),\n",
       " ('monarch', 0.6189674139022827),\n",
       " ('princess', 0.5902431011199951),\n",
       " ('crown_prince', 0.5499460697174072),\n",
       " ('prince', 0.5377321243286133),\n",
       " ('kings', 0.5236844420433044),\n",
       " ('Queen_Consort', 0.5235945582389832),\n",
       " ('queens', 0.518113374710083),\n",
       " ('sultan', 0.5098593235015869),\n",
       " ('monarchy', 0.5087411999702454),\n",
       " ('royal_palace', 0.5087165832519531),\n",
       " ('throne', 0.5005807876586914),\n",
       " ('royal', 0.4938204884529114),\n",
       " ('Princess_Sikhanyiso', 0.4936617612838745),\n",
       " ('ruler', 0.4909275770187378)]"
      ]
     },
     "execution_count": 10,
     "metadata": {},
     "output_type": "execute_result"
    }
   ],
   "source": [
    "model_w2v.most_similar(positive=['king', 'woman'], negative=['man'], topn=15)"
   ]
  },
  {
   "cell_type": "markdown",
   "metadata": {},
   "source": [
    "## Potential issues for downstream use"
   ]
  },
  {
   "cell_type": "code",
   "execution_count": 106,
   "metadata": {},
   "outputs": [
    {
     "name": "stderr",
     "output_type": "stream",
     "text": [
      "/Users/mfallu/Documents/projects/envs/prodigy/lib/python3.6/site-packages/gensim/matutils.py:737: FutureWarning: Conversion of the second argument of issubdtype from `int` to `np.signedinteger` is deprecated. In future, it will be treated as `np.int64 == np.dtype(int).type`.\n",
      "  if np.issubdtype(vec.dtype, np.int):\n"
     ]
    },
    {
     "data": {
      "text/plain": [
       "[('gynecologist', 0.7093892097473145),\n",
       " ('nurse', 0.647728681564331),\n",
       " ('doctors', 0.6471461057662964),\n",
       " ('physician', 0.64389967918396),\n",
       " ('pediatrician', 0.6249487996101379)]"
      ]
     },
     "execution_count": 106,
     "metadata": {},
     "output_type": "execute_result"
    }
   ],
   "source": [
    "model_w2v.most_similar(positive=['doctor', 'woman'], negative=['man'], topn=5)"
   ]
  },
  {
   "cell_type": "code",
   "execution_count": 107,
   "metadata": {},
   "outputs": [
    {
     "name": "stderr",
     "output_type": "stream",
     "text": [
      "/Users/mfallu/Documents/projects/envs/prodigy/lib/python3.6/site-packages/gensim/matutils.py:737: FutureWarning: Conversion of the second argument of issubdtype from `int` to `np.signedinteger` is deprecated. In future, it will be treated as `np.int64 == np.dtype(int).type`.\n",
      "  if np.issubdtype(vec.dtype, np.int):\n"
     ]
    },
    {
     "data": {
      "text/plain": [
       "[('homemaker', 0.5627118945121765),\n",
       " ('housewife', 0.5105047225952148),\n",
       " ('graphic_designer', 0.505180299282074),\n",
       " ('schoolteacher', 0.49794942140579224),\n",
       " ('businesswoman', 0.49348920583724976)]"
      ]
     },
     "execution_count": 107,
     "metadata": {},
     "output_type": "execute_result"
    }
   ],
   "source": [
    "model_w2v.most_similar(positive=['computer_programmer', 'woman'], negative=['man'], topn=5)"
   ]
  },
  {
   "cell_type": "markdown",
   "metadata": {},
   "source": [
    "## If you work with vectors directly you may miss this"
   ]
  },
  {
   "cell_type": "code",
   "execution_count": 11,
   "metadata": {},
   "outputs": [
    {
     "name": "stderr",
     "output_type": "stream",
     "text": [
      "/Users/mfallu/Documents/projects/envs/prodigy/lib/python3.6/site-packages/gensim/matutils.py:737: FutureWarning: Conversion of the second argument of issubdtype from `int` to `np.signedinteger` is deprecated. In future, it will be treated as `np.int64 == np.dtype(int).type`.\n",
      "  if np.issubdtype(vec.dtype, np.int):\n"
     ]
    },
    {
     "data": {
      "text/plain": [
       "[('computer_programmer', 0.9105811715126038),\n",
       " ('homemaker', 0.5771316289901733),\n",
       " ('schoolteacher', 0.5500192046165466),\n",
       " ('graphic_designer', 0.5464699268341064),\n",
       " ('mechanical_engineer', 0.539836585521698),\n",
       " ('electrical_engineer', 0.533705472946167),\n",
       " ('housewife', 0.5274524688720703),\n",
       " ('programmer', 0.5096209049224854),\n",
       " ('businesswoman', 0.5029540657997131),\n",
       " ('keypunch_operator', 0.4974639415740967)]"
      ]
     },
     "execution_count": 11,
     "metadata": {},
     "output_type": "execute_result"
    }
   ],
   "source": [
    "word1 = 'man'\n",
    "word2 = 'woman'\n",
    "# word3 = '?'\n",
    "word4 = 'computer_programmer'\n",
    "\n",
    "vector1 = model_w2v[word1]\n",
    "vector2 = model_w2v[word2]\n",
    "#vector3 = model_w2v[word3]\n",
    "vector4 = model_w2v[word4]\n",
    "\n",
    "output = vector4 - vector1 + vector2\n",
    "\n",
    "model_w2v.similar_by_vector(output, topn=10, restrict_vocab=None)"
   ]
  },
  {
   "cell_type": "markdown",
   "metadata": {},
   "source": [
    "### From the examples above - you can infer that applications that work directly with vectors will on superficial examination, give the \"correct\" result, but the problem is waiting to bite you."
   ]
  },
  {
   "cell_type": "markdown",
   "metadata": {},
   "source": [
    "## Can we partition Gendered subspace in Word2Vec"
   ]
  },
  {
   "cell_type": "code",
   "execution_count": 4,
   "metadata": {},
   "outputs": [],
   "source": [
    "pairs = [('hers', 'his'),\n",
    "         ('gal', 'guy'),\n",
    "         ('her', 'him'),\n",
    "         ('Queen', 'King'),\n",
    "         ('Mary', 'John'),\n",
    "         ('feminist', 'sexist'),\n",
    "         ('feminized', 'masculinized'),\n",
    "         ('dude', 'chick'),\n",
    "         ('she', 'he'),\n",
    "         ('motherly','fatherly'),\n",
    "         ('feminised', 'masculinised'),\n",
    "         ('herself', 'himself'),\n",
    "         ('vagina', 'penis'),\n",
    "         ('priest','nun'),\n",
    "         ('mommy','daddy'),\n",
    "         ('sister','brother'),\n",
    "         ('grandmother','grandfather'),\n",
    "         ('mom','dad'),\n",
    "         ('feminine','masculine'),\n",
    "         ('aunt', 'uncle'),\n",
    "         ('woman', 'man'),      \n",
    "         ('grandma','grandpa'),\n",
    "         ('mother', 'father'),   \n",
    "         ('actress','actor'),      \n",
    "         ('wife','husband'),\n",
    "         ('female', 'male'),\n",
    "         ('daughter', 'son'),\n",
    "         ('girlfriend','boyfriend'),\n",
    "         ('girl', 'boy'),\n",
    "        ('plumber','hairdresser'),\n",
    "        ('carpenter', 'seamstress'),\n",
    "        ('doctor','nurse')]"
   ]
  },
  {
   "cell_type": "markdown",
   "metadata": {},
   "source": [
    "### Why no mummies? Words can mean different things in different locations..."
   ]
  },
  {
   "cell_type": "code",
   "execution_count": 125,
   "metadata": {},
   "outputs": [
    {
     "name": "stderr",
     "output_type": "stream",
     "text": [
      "/Users/mfallu/Documents/projects/envs/prodigy/lib/python3.6/site-packages/gensim/matutils.py:737: FutureWarning: Conversion of the second argument of issubdtype from `int` to `np.signedinteger` is deprecated. In future, it will be treated as `np.int64 == np.dtype(int).type`.\n",
      "  if np.issubdtype(vec.dtype, np.int):\n"
     ]
    },
    {
     "data": {
      "text/plain": [
       "[('mummies', 0.690479576587677),\n",
       " ('Sherit', 0.6301602721214294),\n",
       " ('Pa_Ib', 0.6211981177330017),\n",
       " ('Egyptian_mummy', 0.6202528476715088),\n",
       " ('Hatshepsut_Hawass_told', 0.6132522821426392),\n",
       " ('mummified', 0.6061875820159912),\n",
       " ('Nesperennub', 0.5982159376144409),\n",
       " ('queen_Nefertiti', 0.592476487159729),\n",
       " ('Tutankhamen', 0.5834780931472778),\n",
       " ('Iret_net_Hor_irw', 0.5805263519287109),\n",
       " ('tomb', 0.562680184841156),\n",
       " ('viewing_Tut_tomb', 0.5619694590568542),\n",
       " ('Irethorrou', 0.5618146657943726),\n",
       " ('pharaoh_Tutankhamen', 0.5613417625427246),\n",
       " ('linen_wrappings', 0.5611655116081238)]"
      ]
     },
     "execution_count": 125,
     "metadata": {},
     "output_type": "execute_result"
    }
   ],
   "source": [
    "model_w2v.most_similar(positive=['mummy'], topn=15)"
   ]
  },
  {
   "cell_type": "markdown",
   "metadata": {},
   "source": [
    "## PCA on the first 20 word pairs."
   ]
  },
  {
   "cell_type": "code",
   "execution_count": 65,
   "metadata": {},
   "outputs": [],
   "source": [
    "num_pairs=20"
   ]
  },
  {
   "cell_type": "code",
   "execution_count": 66,
   "metadata": {},
   "outputs": [
    {
     "name": "stdout",
     "output_type": "stream",
     "text": [
      "32\n",
      "[0.21463335 0.10816296 0.09112418 0.07922068 0.06110564]\n"
     ]
    },
    {
     "data": {
      "image/png": "[encoded data removed]",
      "text/plain": [
       "<Figure size 432x288 with 1 Axes>"
      ]
     },
     "metadata": {
      "needs_background": "light"
     },
     "output_type": "display_data"
    }
   ],
   "source": [
    "\n",
    "from sklearn.preprocessing import StandardScaler\n",
    "\n",
    "model_w2v.init_sims()\n",
    "\n",
    "print(len(pairs))\n",
    "%matplotlib inline\n",
    "import numpy as np\n",
    "import matplotlib.pyplot as plt\n",
    "difference_matrix_male = np.array([model_w2v.word_vec(a[0], use_norm=False) - model_w2v.word_vec(a[1], use_norm=False) for a in pairs[:num_pairs]])\n",
    "#difference_matrix_male = StandardScaler().fit_transform(difference_matrix_male)\n",
    "\n",
    "from sklearn.decomposition import PCA\n",
    "pca_male = PCA(n_components=5)\n",
    "pca_male.fit_transform(difference_matrix_male)\n",
    "print(pca_male.explained_variance_ratio_)\n",
    "\n",
    "index = np.arange(len(pca_male.explained_variance_ratio_))\n",
    "plt.bar(index, pca_male.explained_variance_ratio_)\n",
    "plt.show()"
   ]
  },
  {
   "cell_type": "markdown",
   "metadata": {},
   "source": [
    "## Select the Eigenvector that explains most of the varience in the direction of the \"masculine\""
   ]
  },
  {
   "cell_type": "code",
   "execution_count": 68,
   "metadata": {},
   "outputs": [
    {
     "name": "stderr",
     "output_type": "stream",
     "text": [
      "/Users/mfallu/Documents/projects/envs/prodigy/lib/python3.6/site-packages/gensim/matutils.py:737: FutureWarning: Conversion of the second argument of issubdtype from `int` to `np.signedinteger` is deprecated. In future, it will be treated as `np.int64 == np.dtype(int).type`.\n",
      "  if np.issubdtype(vec.dtype, np.int):\n"
     ]
    },
    {
     "data": {
      "text/plain": [
       "[(\"he'sa\", 0.33175212144851685),\n",
       " ('himself', 0.32509180903434753),\n",
       " ('Angelo_Mosca', 0.3226165771484375),\n",
       " ('Braylon_Edwards_Kellen_Winslow', 0.32104557752609253),\n",
       " ('Eddie_Taubensee', 0.3171394169330597)]"
      ]
     },
     "execution_count": 68,
     "metadata": {},
     "output_type": "execute_result"
    }
   ],
   "source": [
    "gender_male = pca_male.components_[0]\n",
    "model_w2v.similar_by_vector(gender_male, topn=5, restrict_vocab=None)"
   ]
  },
  {
   "cell_type": "markdown",
   "metadata": {},
   "source": [
    "## Repeat - Select the Eigenvector that explains most of the varience in the direction of the \"feminine\""
   ]
  },
  {
   "cell_type": "code",
   "execution_count": 69,
   "metadata": {},
   "outputs": [
    {
     "name": "stderr",
     "output_type": "stream",
     "text": [
      "/Users/mfallu/Documents/projects/envs/prodigy/lib/python3.6/site-packages/gensim/matutils.py:737: FutureWarning: Conversion of the second argument of issubdtype from `int` to `np.signedinteger` is deprecated. In future, it will be treated as `np.int64 == np.dtype(int).type`.\n",
      "  if np.issubdtype(vec.dtype, np.int):\n"
     ]
    },
    {
     "data": {
      "text/plain": [
       "[('her', 0.41374996304512024),\n",
       " ('she', 0.407878577709198),\n",
       " ('Berry_Lea_Michele', 0.39791521430015564),\n",
       " ('daughter_Satyana', 0.3962993025779724),\n",
       " ('heroine', 0.3940812945365906)]"
      ]
     },
     "execution_count": 69,
     "metadata": {},
     "output_type": "execute_result"
    }
   ],
   "source": [
    "from sklearn.preprocessing import StandardScaler\n",
    "difference_matrix_female = np.array([model_w2v.word_vec(a[1], use_norm=False) - model_w2v.word_vec(a[0], use_norm=False) for a in pairs[:num_pairs]])\n",
    "from sklearn.decomposition import PCA\n",
    "pca_female = PCA(n_components=5)\n",
    "pca_female.fit_transform(difference_matrix_female)\n",
    "gender_female = pca_female.components_[0]\n",
    "model_w2v.similar_by_vector(gender_female, topn=5, restrict_vocab=None)"
   ]
  },
  {
   "cell_type": "markdown",
   "metadata": {},
   "source": [
    "## Tests - have we got roughly the right vector representation."
   ]
  },
  {
   "cell_type": "code",
   "execution_count": 70,
   "metadata": {},
   "outputs": [
    {
     "name": "stderr",
     "output_type": "stream",
     "text": [
      "/Users/mfallu/Documents/projects/envs/prodigy/lib/python3.6/site-packages/gensim/matutils.py:737: FutureWarning: Conversion of the second argument of issubdtype from `int` to `np.signedinteger` is deprecated. In future, it will be treated as `np.int64 == np.dtype(int).type`.\n",
      "  if np.issubdtype(vec.dtype, np.int):\n"
     ]
    },
    {
     "data": {
      "text/plain": [
       "[('computer_programmer', 0.8775547742843628),\n",
       " ('homemaker', 0.575336217880249),\n",
       " ('housewife', 0.5356433391571045),\n",
       " ('graphic_designer', 0.5262938141822815),\n",
       " ('schoolteacher', 0.524954617023468)]"
      ]
     },
     "execution_count": 70,
     "metadata": {},
     "output_type": "execute_result"
    }
   ],
   "source": [
    "word = 'computer_programmer'\n",
    "term = model_w2v[word]\n",
    "model_w2v.most_similar(positive=[gender_female, term], negative=[gender_male], topn=5)"
   ]
  },
  {
   "cell_type": "code",
   "execution_count": 95,
   "metadata": {},
   "outputs": [
    {
     "name": "stderr",
     "output_type": "stream",
     "text": [
      "/Users/mfallu/Documents/projects/envs/prodigy/lib/python3.6/site-packages/gensim/matutils.py:737: FutureWarning: Conversion of the second argument of issubdtype from `int` to `np.signedinteger` is deprecated. In future, it will be treated as `np.int64 == np.dtype(int).type`.\n",
      "  if np.issubdtype(vec.dtype, np.int):\n"
     ]
    },
    {
     "data": {
      "text/plain": [
       "[('job', 0.7601036429405212),\n",
       " ('jobs', 0.5286347270011902),\n",
       " ('waitressing', 0.49453747272491455),\n",
       " ('secretarial', 0.4450209438800812),\n",
       " ('maternity_leave', 0.43278470635414124)]"
      ]
     },
     "execution_count": 95,
     "metadata": {},
     "output_type": "execute_result"
    }
   ],
   "source": [
    "word = 'job'\n",
    "term = model_w2v[word]\n",
    "model_w2v.most_similar(positive=[gender_female, term], negative=[gender_male], topn=5)"
   ]
  },
  {
   "cell_type": "markdown",
   "metadata": {},
   "source": [
    "## Here is one we prepared earlier - ConceptNet Numberbatch"
   ]
  },
  {
   "cell_type": "code",
   "execution_count": 100,
   "metadata": {},
   "outputs": [],
   "source": [
    "model = KeyedVectors.load_word2vec_format('numberbatch-en-17.06.txt', binary=False)"
   ]
  },
  {
   "cell_type": "code",
   "execution_count": 104,
   "metadata": {},
   "outputs": [
    {
     "name": "stderr",
     "output_type": "stream",
     "text": [
      "/Users/mfallu/Documents/projects/envs/prodigy/lib/python3.6/site-packages/gensim/matutils.py:737: FutureWarning: Conversion of the second argument of issubdtype from `int` to `np.signedinteger` is deprecated. In future, it will be treated as `np.int64 == np.dtype(int).type`.\n",
      "  if np.issubdtype(vec.dtype, np.int):\n"
     ]
    },
    {
     "data": {
      "text/plain": [
       "[('software_engineer', 0.8788665533065796),\n",
       " ('programmer', 0.8787931203842163),\n",
       " ('systems_analyst', 0.7885132431983948),\n",
       " ('nonprogrammer', 0.7824258804321289),\n",
       " ('analyst_programmer', 0.7734425067901611),\n",
       " ('noncoder', 0.7632148265838623),\n",
       " ('system_administrator', 0.7326393127441406),\n",
       " ('computer_expert', 0.7211934328079224),\n",
       " ('nuclear_engineer', 0.7165764570236206),\n",
       " ('programmers', 0.7067961692810059)]"
      ]
     },
     "execution_count": 104,
     "metadata": {},
     "output_type": "execute_result"
    }
   ],
   "source": [
    "model.most_similar(positive=['computer_programmer', 'woman'], negative=['man'], topn=10)"
   ]
  },
  {
   "cell_type": "code",
   "execution_count": null,
   "metadata": {},
   "outputs": [],
   "source": []
  }
 ],
 "metadata": {
  "kernelspec": {
   "display_name": "Python 3",
   "language": "python",
   "name": "python3"
  },
  "language_info": {
   "codemirror_mode": {
    "name": "ipython",
    "version": 3
   },
   "file_extension": ".py",
   "mimetype": "text/x-python",
   "name": "python",
   "nbconvert_exporter": "python",
   "pygments_lexer": "ipython3",
   "version": "3.6.3"
  }
 },
 "nbformat": 4,
 "nbformat_minor": 2
}
